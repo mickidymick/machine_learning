{
 "cells": [
  {
   "cell_type": "markdown",
   "metadata": {},
   "source": [
    "# Imports / Setup"
   ]
  },
  {
   "cell_type": "code",
   "execution_count": 1,
   "metadata": {},
   "outputs": [],
   "source": [
    "import os\n",
    "import re\n",
    "import ipywidgets as widgets\n",
    "\n",
    "res = []\n",
    "\n",
    "for root, dirs, files, in os.walk('.'):\n",
    "    for name in files:\n",
    "        if re.match('^.*.zip$', name):\n",
    "            file = os.path.join(root, name)\n",
    "            res.append(file)\n",
    "\n",
    "selection = widgets.Select(\n",
    "    options=res,\n",
    "    value=res[0],\n",
    "    # rows=10,\n",
    "    description='Zip Files',\n",
    "    disabled=False\n",
    ")"
   ]
  },
  {
   "cell_type": "markdown",
   "metadata": {},
   "source": [
    "# Select File to Unzip"
   ]
  },
  {
   "cell_type": "code",
   "execution_count": 2,
   "metadata": {},
   "outputs": [
    {
     "data": {
      "application/vnd.jupyter.widget-view+json": {
       "model_id": "ce08bbc39f4d485bb6d3932988c11e9a",
       "version_major": 2,
       "version_minor": 0
      },
      "text/plain": [
       "Select(description='Zip Files', options=('./Walking/walking_test_1.zip',), value='./Walking/walking_test_1.zip…"
      ]
     },
     "metadata": {},
     "output_type": "display_data"
    }
   ],
   "source": [
    "display(selection)"
   ]
  },
  {
   "cell_type": "markdown",
   "metadata": {},
   "source": [
    "# Unzip"
   ]
  },
  {
   "cell_type": "code",
   "execution_count": 9,
   "metadata": {},
   "outputs": [
    {
     "name": "stdout",
     "output_type": "stream",
     "text": [
      "File: ./Walking/walking_test_1.zip\n",
      " \n",
      "directory: Walking/walking_test_1\n",
      " \n",
      "mkdir: cannot create directory ‘Walking/walking_test_1’: File exists\n",
      " \n",
      " \n",
      "Archive:  ./Walking/walking_test_1.zip\n",
      " \n",
      " \n",
      "total 17296\n",
      "drwxr-xr-x 2 jmcmicha jmcmicha    4096 Sep 27 15:31 .\n",
      "drwxr-xr-x 4 jmcmicha jmcmicha    4096 Sep 27 15:26 ..\n",
      "-rw------- 1 jmcmicha jmcmicha 1953937 Sep 27 13:10 Accelerometer.csv\n",
      "-rw------- 1 jmcmicha jmcmicha 3913796 Sep 27 13:10 AccelerometerUncalibrated.csv\n",
      "-rw------- 1 jmcmicha jmcmicha       0 Sep 27 13:08 Annotation.csv\n",
      "-rw------- 1 jmcmicha jmcmicha 3952895 Sep 27 13:10 Gyroscope.csv\n",
      "-rw------- 1 jmcmicha jmcmicha 3951836 Sep 27 13:10 GyroscopeUncalibrated.csv\n",
      "-rw------- 1 jmcmicha jmcmicha     280 Sep 27 13:08 Metadata.csv\n",
      "-rw------- 1 jmcmicha jmcmicha 3913980 Sep 27 13:10 TotalAcceleration.csv\n"
     ]
    }
   ],
   "source": [
    "chosen_file = selection.value\n",
    "print(\"File: \" + chosen_file)\n",
    "print(\" \")\n",
    "\n",
    "tmp = chosen_file.split('.zip')[0]\n",
    "directory = tmp.split('./')[1]\n",
    "print(\"directory: \" + directory)\n",
    "print(\" \")\n",
    "\n",
    "!mkdir {directory}\n",
    "print(\" \")\n",
    "print(\" \")\n",
    "\n",
    "!./unzip.sh {chosen_file} {directory}\n",
    "print(\" \")\n",
    "print(\" \")\n",
    "\n",
    "!ls -la {directory}"
   ]
  },
  {
   "cell_type": "markdown",
   "metadata": {},
   "source": [
    "# Remove .zip File"
   ]
  },
  {
   "cell_type": "code",
   "execution_count": 10,
   "metadata": {},
   "outputs": [],
   "source": [
    "!rm {chosen_file}"
   ]
  },
  {
   "cell_type": "code",
   "execution_count": null,
   "metadata": {},
   "outputs": [],
   "source": []
  }
 ],
 "metadata": {
  "kernelspec": {
   "display_name": "Python 3",
   "language": "python",
   "name": "python3"
  },
  "language_info": {
   "codemirror_mode": {
    "name": "ipython",
    "version": 3
   },
   "file_extension": ".py",
   "mimetype": "text/x-python",
   "name": "python",
   "nbconvert_exporter": "python",
   "pygments_lexer": "ipython3",
   "version": "3.7.3"
  }
 },
 "nbformat": 4,
 "nbformat_minor": 2
}
