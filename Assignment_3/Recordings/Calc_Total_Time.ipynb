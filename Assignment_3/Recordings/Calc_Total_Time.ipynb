{
 "cells": [
  {
   "cell_type": "markdown",
   "metadata": {},
   "source": [
    "# Imports / Setup"
   ]
  },
  {
   "cell_type": "code",
   "execution_count": 7,
   "metadata": {},
   "outputs": [],
   "source": [
    "import os\n",
    "import re\n",
    "import datetime\n",
    "import ipywidgets as widgets\n",
    "import pandas as pd\n",
    "import plotly.graph_objects as go\n",
    "import numpy as np\n",
    "\n",
    "def calc_time(path):\n",
    "    total_time  = 0\n",
    "    data_points = 0\n",
    "    \n",
    "    for root, dirs, files, in os.walk(path):\n",
    "        for name in files:\n",
    "            if re.match('^Accelerometer.csv$', name):\n",
    "                data_points += 1\n",
    "                file         = os.path.join(root, name)\n",
    "                df           = pd.read_csv(file)\n",
    "                df.index     = pd.to_datetime(df['time'], unit = 'ns')\n",
    "                total_time  += df['time'].max() - df['time'].min()\n",
    "    \n",
    "    td = datetime.timedelta(microseconds=(total_time * 0.001))\n",
    "    print(\"Meta Data\")\n",
    "    print(\"The number of DataPoints: \" + str(data_points))\n",
    "    print(\"TotalTime in hh:mm:ss: \", td)\n",
    "    print(\"\")\n",
    "    \n",
    "def p(**func_kwargs):\n",
    "    woo = 1\n",
    "\n",
    "def select_dir(sel):\n",
    "    res = next(os.walk('.'))[1]\n",
    "    res.pop(2)\n",
    "\n",
    "    selectionW = widgets.Select(\n",
    "        options=res,\n",
    "        rows=10,\n",
    "        description='Zip Files',\n",
    "        disabled=False\n",
    "    )\n",
    "    selectionW.layout.width = '700px'\n",
    "    selectionW.observe(select_dir, 'value')\n",
    "    new_i = i = widgets.interactive(p, selection = selectionW)\n",
    "    i.children = new_i.children\n",
    "    \n",
    "    calc_time(os.path.join(next(os.walk('.'))[0][0], sel.new))\n",
    "\n",
    "res = next(os.walk('.'))[1]\n",
    "res.pop(2)\n",
    "\n",
    "selectionW = widgets.Select(\n",
    "    options=res,\n",
    "    rows=10,\n",
    "    description='Zip Files',\n",
    "    disabled=False\n",
    ")\n",
    "selectionW.layout.width = '700px'\n",
    "selectionW.observe(select_dir, 'value')\n",
    "\n",
    "i = widgets.interactive(p, selection = selectionW)\n",
    "\n"
   ]
  },
  {
   "cell_type": "markdown",
   "metadata": {},
   "source": [
    "# Total Time of All Data Collected for Selected Activity"
   ]
  },
  {
   "cell_type": "code",
   "execution_count": 8,
   "metadata": {},
   "outputs": [
    {
     "data": {
      "application/vnd.jupyter.widget-view+json": {
       "model_id": "67188e73710a412d931eb48c118612b9",
       "version_major": 2,
       "version_minor": 0
      },
      "text/plain": [
       "interactive(children=(Select(description='Zip Files', layout=Layout(width='700px'), options=('Climbing_Up_Stai…"
      ]
     },
     "metadata": {},
     "output_type": "display_data"
    },
    {
     "name": "stdout",
     "output_type": "stream",
     "text": [
      "Meta Data\n",
      "The number of DataPoints: 2\n",
      "TotalTime in hh:mm:ss:  0:02:42.442180\n",
      "\n",
      "Meta Data\n",
      "The number of DataPoints: 0\n",
      "TotalTime in hh:mm:ss:  0:00:00\n",
      "\n"
     ]
    }
   ],
   "source": [
    "display(i)"
   ]
  },
  {
   "cell_type": "code",
   "execution_count": null,
   "metadata": {},
   "outputs": [],
   "source": []
  }
 ],
 "metadata": {
  "kernelspec": {
   "display_name": "Python 3",
   "language": "python",
   "name": "python3"
  },
  "language_info": {
   "codemirror_mode": {
    "name": "ipython",
    "version": 3
   },
   "file_extension": ".py",
   "mimetype": "text/x-python",
   "name": "python",
   "nbconvert_exporter": "python",
   "pygments_lexer": "ipython3",
   "version": "3.7.3"
  }
 },
 "nbformat": 4,
 "nbformat_minor": 2
}
