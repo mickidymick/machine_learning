{
 "cells": [
  {
   "cell_type": "code",
   "execution_count": 1,
   "id": "dcacfd42",
   "metadata": {},
   "outputs": [],
   "source": [
    "import warnings\n",
    "import pickle\n",
    "import pyaudio\n",
    "import wave\n",
    "import time\n",
    "import matplotlib.pyplot       as plt\n",
    "import numpy                   as np\n",
    "import pandas                  as pd\n",
    "from   itertools               import chain\n",
    "from   tqdm.notebook           import tqdm, trange\n",
    "\n",
    "import librosa\n",
    "import librosa.display\n",
    "\n",
    "import scipy.io.wavfile        as wavfile\n",
    "from   scipy.fftpack           import fft\n",
    "from   scipy                   import signal\n",
    "from   scipy.stats             import binned_statistic\n",
    "from   scipy.signal            import savgol_filter\n",
    "\n",
    "from   sklearn.linear_model    import LogisticRegression\n",
    "from   sklearn.cluster         import KMeans\n",
    "from   sklearn.metrics         import classification_report, accuracy_score, confusion_matrix\n",
    "from   sklearn.model_selection import KFold, cross_val_score, train_test_split"
   ]
  },
  {
   "cell_type": "code",
   "execution_count": 2,
   "id": "d00e076f",
   "metadata": {},
   "outputs": [],
   "source": [
    "# load the model from disk\n",
    "filename = 'bin_1_window'\n",
    "\n",
    "with open('saved_models/' + filename + '_model.pkl', \"rb\") as f:\n",
    "    loaded_model = pickle.load(f)\n",
    "\n",
    "with open('saved_models/' + filename + '_clf_model.pkl', \"rb\") as f:\n",
    "    loaded_clf_model = pickle.load(f)"
   ]
  },
  {
   "cell_type": "code",
   "execution_count": 3,
   "id": "3f36ff2f",
   "metadata": {
    "code_folding": [
     3,
     24,
     44,
     56,
     77,
     88,
     116,
     124,
     134,
     162,
     177,
     188,
     198,
     208,
     218,
     231
    ]
   },
   "outputs": [],
   "source": [
    "class File:\n",
    "    def __init__(self, file_type, num_files, samples, sampling_rate, fs, y, df):\n",
    "        self.file_type               = file_type\n",
    "        self.num_files               = num_files\n",
    "        self.samples                 = samples\n",
    "        self.sampling_rate           = sampling_rate\n",
    "        self.fs                      = fs\n",
    "        self.y                       = y\n",
    "        self.num_bins                = 1024\n",
    "        self.FFT_SIZE                = 1024\n",
    "        self.window_size             = 0.25\n",
    "        self.window_overlap          = 0.5\n",
    "        self.xf                      = []\n",
    "        self.yf                      = []\n",
    "        self.bins                    = []\n",
    "        self.bin_windows             = []\n",
    "        self.domain_spec_f           = []\n",
    "        self.domain_spec_f_windows   = []\n",
    "        \n",
    "        self.print_file(0)\n",
    "        \n",
    "    # calculate the fft for a specific wav file\n",
    "    def fft_method(self, num, begin=0, end=None):\n",
    "        if end == None:\n",
    "            end=len(self.samples[num])\n",
    "        \n",
    "        # variables\n",
    "        T = 1/self.sampling_rate\n",
    "        N = len(self.samples[num][begin:end])\n",
    "        \n",
    "        # max frequency spectrum of the FFT.\n",
    "        max_val = 1.0/(2.0*T) \n",
    "        num_vals = N//2  \n",
    "\n",
    "        # calculate fft\n",
    "        yf_all = fft(self.samples[num][begin:end])\n",
    "        xf = np.linspace(0.0, max_val, num_vals)\n",
    "        yf = 2.0/N * np.abs(yf_all[0:num_vals])\n",
    "\n",
    "        return xf, yf\n",
    "    \n",
    "    # create a list of fft features for this class\n",
    "    def create_fft(self):\n",
    "        self.xf = []\n",
    "        self.yf = []\n",
    "\n",
    "        for one in range(self.num_files):\n",
    "            self.xf.append(self.fft_method(one)[0])\n",
    "            self.yf.append(self.fft_method(one)[1])\n",
    "        \n",
    "        #print the first wav file's fft\n",
    "        self.graph_fft(0)\n",
    "        \n",
    "    # calculates the avg magnitude between two frequencies\n",
    "    def calc_avg(self, xf, yf, length, min_freq, max_freq):\n",
    "        l = []\n",
    "        min_idx = -1\n",
    "        max_idx = -1\n",
    "        y_filtered = savgol_filter(yf, length, 3)\n",
    "        for i in range(len(xf)):\n",
    "            if xf[i] > min_freq and min_idx == -1:\n",
    "                min_idx = i\n",
    "            elif xf[i] > max_freq and max_idx == -1:\n",
    "                max_idx = i - 1\n",
    "            elif min_idx != -1 and max_idx != -1:\n",
    "                break\n",
    "        avg_l = y_filtered[min_idx:max_idx]\n",
    "        \n",
    "        if len(avg_l) == 0:\n",
    "            avg = 0\n",
    "        else:\n",
    "            avg = sum(avg_l)/len(avg_l)\n",
    "        return avg\n",
    "    \n",
    "    # create a list of domain-specifc features for this class\n",
    "    def create_domain_spec_f(self, freqs):\n",
    "        self.domain_spec_f = []\n",
    "\n",
    "        for file in range(self.num_files):\n",
    "            avg_l = []\n",
    "            for one in freqs:\n",
    "                avg_l.append(self.calc_avg(self.xf[file], self.yf[file], 99, one[0], one[1]))\n",
    "            \n",
    "            self.domain_spec_f.append(avg_l)\n",
    "                        \n",
    "    # create a list of domain-specifc features for this class\n",
    "    def create_windowed_domain_spec_f(self, freqs):\n",
    "        self.domain_spec_f_windows = []\n",
    "        window_size      = int(len(self.samples[0]) * self.window_size)\n",
    "        move_window      = int(len(self.samples[0]) * (self.window_size * self.window_overlap))\n",
    "        \n",
    "        for file in range(self.num_files):\n",
    "            begin = 0\n",
    "            end   = window_size\n",
    "            \n",
    "            for one in range(int(len(self.samples[0]) / self.window_overlap)):\n",
    "                if begin >= len(self.samples[0]):\n",
    "                    break\n",
    "                    \n",
    "                if end >= len(self.samples[0]):\n",
    "                    end = len(self.samples[0])-1\n",
    " \n",
    "                xf, yf = self.fft_method(file, begin, end)\n",
    "    \n",
    "                avg_l = []\n",
    "                for one in freqs:\n",
    "                    avg_l.append(self.calc_avg(xf, yf, 99 , one[0], one[1]))\n",
    "\n",
    "                self.domain_spec_f_windows.append(avg_l)\n",
    "                \n",
    "                begin += move_window\n",
    "                end   += move_window\n",
    "\n",
    "    # calculate the bins for a specific file\n",
    "    def bin_method(self, num):\n",
    "        bins_of_file = [int(x) for x in binned_statistic(self.yf[num], \n",
    "                                                         self.yf[num], \n",
    "                                                         statistic='count', \n",
    "                                                         bins=self.num_bins)[0]]\n",
    "        return bins_of_file\n",
    "    \n",
    "    # create a list of the bin features for this class    \n",
    "    def create_bins_from_fft(self):\n",
    "        self.bins = []\n",
    "\n",
    "        for file in range(self.num_files):\n",
    "            self.bins.append(self.bin_method(file))\n",
    "            \n",
    "        #print the bins of the first wav file in this class\n",
    "        self.graph_bins(0)\n",
    "        \n",
    "    # create a list of windows with bin features for this class\n",
    "    def create_windowed_bins_from_fft(self):\n",
    "        self.bin_windows = []\n",
    "        window_size      = int(len(self.samples[0]) * self.window_size)\n",
    "        move_window      = int(len(self.samples[0]) * (self.window_size * self.window_overlap))\n",
    "    \n",
    "        for file in range(self.num_files):\n",
    "            begin = 0\n",
    "            end   = window_size\n",
    "            \n",
    "            for one in range(int(len(self.samples[0]) / self.window_overlap)):\n",
    "                if begin >= len(self.samples[0]):\n",
    "                    break\n",
    "                    \n",
    "                if end >= len(self.samples[0]):\n",
    "                    end = len(self.samples[0])-1\n",
    " \n",
    "                xf, yf = self.fft_method(file, begin, end)\n",
    "                bin_window = [int(x) for x in binned_statistic(yf, \n",
    "                                                               yf, \n",
    "                                                               statistic='count', \n",
    "                                                               bins=self.num_bins)[0]]\n",
    "                self.bin_windows.append(bin_window)\n",
    "                begin += move_window\n",
    "                end   += move_window\n",
    "        \n",
    "        self.graph_windowed_bins(0)\n",
    "                    \n",
    "    # graph the specified wav file of this class as a spectrogram\n",
    "    def graph_spectrogram(self, num): \n",
    "        warnings.filterwarnings('ignore')\n",
    "        f,t,pxx = signal.spectrogram(self.y[num], \n",
    "                                     nperseg=self.FFT_SIZE, \n",
    "                                     fs=self.fs[num], \n",
    "                                     noverlap=self.FFT_SIZE/2)\n",
    "        %matplotlib inline\n",
    "        cmap=plt.cm.bone\n",
    "        cmap.set_under(color='k', alpha=None)\n",
    "        plt.title(\"Spectrogram\")\n",
    "        plt.xlabel(\"Time (seconds)\")\n",
    "        plt.ylabel(\"Frequency (Hz)\")\n",
    "        plt.pcolormesh(np.log10(pxx[:,:]),cmap=cmap)\n",
    "        \n",
    "    # graph the specified file of this class as a fft\n",
    "    def graph_fft(self, num):\n",
    "        if PRINT_GRAPH:\n",
    "            plt.figure()\n",
    "            plt.title(\"Fast Fourier Transform\")\n",
    "            plt.plot(self.xf[num], self.yf[num])\n",
    "            plt.grid()\n",
    "            plt.xlabel(\"Frequency (Hz)\")\n",
    "            plt.ylabel(\"Magnitude\")\n",
    "            plt.show()\n",
    "\n",
    "    # graph the specified file of this class as a wave form        \n",
    "    def graph_wave_form(self, num):\n",
    "        if PRINT_GRAPH:\n",
    "            plt.figure()\n",
    "            plt.title(\"Wave Form\")\n",
    "            librosa.display.waveshow(self.samples[num], sr=self.sampling_rate)\n",
    "            plt.xlabel(\"Time (seconds)\")\n",
    "            plt.ylabel(\"Amplitude\")\n",
    "            plt.show()\n",
    "     \n",
    "    # graph the specified file of this class as a bins\n",
    "    def graph_bins(self, num):\n",
    "        if PRINT_GRAPH:\n",
    "            plt.figure()\n",
    "            plt.title(\"Bins\")\n",
    "            plt.xlabel(\"Bin Index\")\n",
    "            plt.ylabel(\"Count\")\n",
    "            plt.bar(range(0, self.num_bins), self.bins[num])\n",
    "            plt.show()\n",
    "        \n",
    "    # graph the specified file of this class as a windowed bins\n",
    "    def graph_windowed_bins(self, num):\n",
    "        if PRINT_GRAPH:\n",
    "            plt.figure()\n",
    "            plt.title(\"Bins\")\n",
    "            plt.xlabel(\"Bin Index\")\n",
    "            plt.ylabel(\"Count\")\n",
    "            plt.bar(range(0, len(self.bin_windows[num])), self.bin_windows[num])\n",
    "            plt.show()\n",
    "    \n",
    "    # graph the specified file of this class\n",
    "    def print_file(self, num):\n",
    "        if PRINT_GRAPH:\n",
    "            print(\"-----------------\")\n",
    "            print(f\"File Type:     {self.file_type}\")\n",
    "            print(f\"Num Files:     {self.num_files}\")\n",
    "            print(f\"Samples:       {len(self.samples[0])}\")\n",
    "            print(f\"Sampling rate: {self.sampling_rate}\")\n",
    "            print(\"-----------------\")\n",
    "\n",
    "            self.graph_wave_form(num)\n",
    "            self.graph_spectrogram(num)\n",
    "        \n",
    "# load the class into data and print the first file\n",
    "def load_file(file_type, path, if_song):\n",
    "    num_files = 0\n",
    "    fs        = []\n",
    "    y         = []\n",
    "    samples   = []   \n",
    "    \n",
    "    file_path = path\n",
    "    tmp_samples, tmp_sampling_rate  = librosa.load(file_path, \n",
    "                                                   sr=None, \n",
    "                                                   mono=True, \n",
    "                                                   offset=0.0, \n",
    "                                                   duration=None)\n",
    "    \n",
    "    num_files     += 1\n",
    "    tmp_fs, tmp_y  = wavfile.read(file_path)\n",
    "    fs.append(tmp_fs)\n",
    "    y.append(np.array([x[0] for x in tmp_y]))\n",
    "    samples.append(tmp_samples)\n",
    "\n",
    "    sampling_rate = tmp_sampling_rate\n",
    "\n",
    "    if sampling_rate != tmp_sampling_rate:\n",
    "        print(\"Error: sampling rate is inconsistent!\")\n",
    "        return\n",
    "\n",
    "    df = pd.DataFrame()\n",
    "\n",
    "    return File(file_type, num_files, samples, sampling_rate, fs, y, df)"
   ]
  },
  {
   "cell_type": "code",
   "execution_count": 4,
   "id": "b58ae9b2",
   "metadata": {
    "code_folding": []
   },
   "outputs": [],
   "source": [
    "# grab sound file and write to disc\n",
    "def record():\n",
    "    FORMAT               = pyaudio.paInt16\n",
    "    CHANNELS             = 2\n",
    "    RATE                 = 16000\n",
    "    CHUNK                = 1024\n",
    "    RECORD_SECONDS       = 5\n",
    "    WAVE_OUTPUT_FILENAME = \"file.wav\"\n",
    "\n",
    "    audio = pyaudio.PyAudio()\n",
    "\n",
    "    # start Recording\n",
    "    stream = audio.open(format=FORMAT, channels=CHANNELS,\n",
    "                    rate=RATE, input=True,\n",
    "                    frames_per_buffer=CHUNK)\n",
    "    print(\"recording...\")\n",
    "    frames = []\n",
    "\n",
    "    for i in trange(0, int(RATE / CHUNK * RECORD_SECONDS)):\n",
    "        data = stream.read(CHUNK)\n",
    "        frames.append(data)\n",
    "\n",
    "#     print(\"finished recording\")\n",
    "    # stop Recording\n",
    "    stream.stop_stream()\n",
    "    stream.close()\n",
    "    audio.terminate()\n",
    "\n",
    "#     print(\"write file\")\n",
    "    waveFile = wave.open(WAVE_OUTPUT_FILENAME, 'wb')\n",
    "    waveFile.setnchannels(CHANNELS)\n",
    "    waveFile.setsampwidth(audio.get_sample_size(FORMAT))\n",
    "    waveFile.setframerate(RATE)\n",
    "    waveFile.writeframes(b''.join(frames))\n",
    "    waveFile.close()\n",
    "\n",
    "#     print(\"Done\")"
   ]
  },
  {
   "cell_type": "code",
   "execution_count": 5,
   "id": "85dd240d",
   "metadata": {},
   "outputs": [],
   "source": [
    "PRINT_GRAPH = 0\n",
    "\n",
    "def predict():\n",
    "    warnings.filterwarnings('ignore')\n",
    "    print(\"Predict\")\n",
    "\n",
    "    # read in the new .wav file\n",
    "    test_class = load_file(\"test\", \"file.wav\", 0)\n",
    "    \n",
    "    plt.figure()\n",
    "    plt.title(\"Wave Form\")\n",
    "    librosa.display.waveshow(test_class.samples[0], sr=test_class.sampling_rate)\n",
    "    plt.xlabel(\"Time (seconds)\")\n",
    "    plt.ylabel(\"Amplitude\")\n",
    "    plt.show()\n",
    "\n",
    "    # calculate fft\n",
    "    test_class.create_fft()\n",
    "\n",
    "    # calclate bins\n",
    "    test_class.create_bins_from_fft()   \n",
    "\n",
    "    # convert data\n",
    "    bins = []\n",
    "    bins.extend(test_class.bins)\n",
    "    X_test = pd.DataFrame(bins)\n",
    "\n",
    "    # predict KMeans\n",
    "    y_labels_test      = loaded_clf_model.predict(X_test)\n",
    "    X_test['km_clust'] = y_labels_test\n",
    "\n",
    "    # predict SVM\n",
    "    result = loaded_model.predict(X_test)\n",
    "\n",
    "    print(result)\n",
    "    print(\" \")"
   ]
  },
  {
   "cell_type": "code",
   "execution_count": 6,
   "id": "75b5999c",
   "metadata": {},
   "outputs": [
    {
     "name": "stdout",
     "output_type": "stream",
     "text": [
      "recording...\n"
     ]
    },
    {
     "data": {
      "application/vnd.jupyter.widget-view+json": {
       "model_id": "c7f7ea51d5d94841a72ad67e45a33cb1",
       "version_major": 2,
       "version_minor": 0
      },
      "text/plain": [
       "  0%|          | 0/78 [00:00<?, ?it/s]"
      ]
     },
     "metadata": {},
     "output_type": "display_data"
    },
    {
     "name": "stdout",
     "output_type": "stream",
     "text": [
      "Predict\n"
     ]
    },
    {
     "data": {
      "image/png": "[encoded data removed]",
      "text/plain": [
       "<Figure size 432x288 with 1 Axes>"
      ]
     },
     "metadata": {
      "needs_background": "light"
     },
     "output_type": "display_data"
    },
    {
     "name": "stdout",
     "output_type": "stream",
     "text": [
      "['fire_alarm']\n",
      " \n",
      "recording...\n"
     ]
    },
    {
     "data": {
      "application/vnd.jupyter.widget-view+json": {
       "model_id": "3a1912ead3694268b738be96c9b0481d",
       "version_major": 2,
       "version_minor": 0
      },
      "text/plain": [
       "  0%|          | 0/78 [00:00<?, ?it/s]"
      ]
     },
     "metadata": {},
     "output_type": "display_data"
    },
    {
     "name": "stdout",
     "output_type": "stream",
     "text": [
      "Predict\n"
     ]
    },
    {
     "data": {
      "image/png": "[encoded data removed]",
      "text/plain": [
       "<Figure size 432x288 with 1 Axes>"
      ]
     },
     "metadata": {
      "needs_background": "light"
     },
     "output_type": "display_data"
    },
    {
     "name": "stdout",
     "output_type": "stream",
     "text": [
      "['fire_alarm']\n",
      " \n",
      "recording...\n"
     ]
    },
    {
     "data": {
      "application/vnd.jupyter.widget-view+json": {
       "model_id": "af386212ae0e4e12bd354f871c87b921",
       "version_major": 2,
       "version_minor": 0
      },
      "text/plain": [
       "  0%|          | 0/78 [00:00<?, ?it/s]"
      ]
     },
     "metadata": {},
     "output_type": "display_data"
    },
    {
     "name": "stdout",
     "output_type": "stream",
     "text": [
      "Predict\n"
     ]
    },
    {
     "data": {
      "image/png": "[encoded data removed]",
      "text/plain": [
       "<Figure size 432x288 with 1 Axes>"
      ]
     },
     "metadata": {
      "needs_background": "light"
     },
     "output_type": "display_data"
    },
    {
     "name": "stdout",
     "output_type": "stream",
     "text": [
      "['   blender']\n",
      " \n",
      "recording...\n"
     ]
    },
    {
     "data": {
      "application/vnd.jupyter.widget-view+json": {
       "model_id": "29046ab7d95c48d0bcd8d54abeccf20b",
       "version_major": 2,
       "version_minor": 0
      },
      "text/plain": [
       "  0%|          | 0/78 [00:00<?, ?it/s]"
      ]
     },
     "metadata": {},
     "output_type": "display_data"
    },
    {
     "name": "stdout",
     "output_type": "stream",
     "text": [
      "Predict\n"
     ]
    },
    {
     "data": {
      "image/png": "[encoded data removed]",
      "text/plain": [
       "<Figure size 432x288 with 1 Axes>"
      ]
     },
     "metadata": {
      "needs_background": "light"
     },
     "output_type": "display_data"
    },
    {
     "name": "stdout",
     "output_type": "stream",
     "text": [
      "['   blender']\n",
      " \n",
      "recording...\n"
     ]
    },
    {
     "data": {
      "application/vnd.jupyter.widget-view+json": {
       "model_id": "bd165a1de2354fa882653cbbfa23d0dc",
       "version_major": 2,
       "version_minor": 0
      },
      "text/plain": [
       "  0%|          | 0/78 [00:00<?, ?it/s]"
      ]
     },
     "metadata": {},
     "output_type": "display_data"
    },
    {
     "name": "stdout",
     "output_type": "stream",
     "text": [
      "Predict\n"
     ]
    },
    {
     "data": {
      "image/png": "[encoded data removed]",
      "text/plain": [
       "<Figure size 432x288 with 1 Axes>"
      ]
     },
     "metadata": {
      "needs_background": "light"
     },
     "output_type": "display_data"
    },
    {
     "name": "stdout",
     "output_type": "stream",
     "text": [
      "['      song']\n",
      " \n",
      "recording...\n"
     ]
    },
    {
     "data": {
      "application/vnd.jupyter.widget-view+json": {
       "model_id": "b35c1bf3127a46298043c9fad1352696",
       "version_major": 2,
       "version_minor": 0
      },
      "text/plain": [
       "  0%|          | 0/78 [00:00<?, ?it/s]"
      ]
     },
     "metadata": {},
     "output_type": "display_data"
    },
    {
     "ename": "KeyboardInterrupt",
     "evalue": "",
     "output_type": "error",
     "traceback": [
      "\u001b[0;31m---------------------------------------------------------------------------\u001b[0m",
      "\u001b[0;31mKeyboardInterrupt\u001b[0m                         Traceback (most recent call last)",
      "\u001b[0;32m<ipython-input-6-6007d6b3d082>\u001b[0m in \u001b[0;36m<module>\u001b[0;34m()\u001b[0m\n\u001b[1;32m      1\u001b[0m \u001b[0;32mwhile\u001b[0m \u001b[0;36m1\u001b[0m\u001b[0;34m:\u001b[0m\u001b[0;34m\u001b[0m\u001b[0;34m\u001b[0m\u001b[0m\n\u001b[0;32m----> 2\u001b[0;31m     \u001b[0mrecord\u001b[0m\u001b[0;34m(\u001b[0m\u001b[0;34m)\u001b[0m\u001b[0;34m\u001b[0m\u001b[0;34m\u001b[0m\u001b[0m\n\u001b[0m\u001b[1;32m      3\u001b[0m     \u001b[0mpredict\u001b[0m\u001b[0;34m(\u001b[0m\u001b[0;34m)\u001b[0m\u001b[0;34m\u001b[0m\u001b[0;34m\u001b[0m\u001b[0m\n",
      "\u001b[0;32m<ipython-input-4-ecb7386a9761>\u001b[0m in \u001b[0;36mrecord\u001b[0;34m()\u001b[0m\n\u001b[1;32m     18\u001b[0m \u001b[0;34m\u001b[0m\u001b[0m\n\u001b[1;32m     19\u001b[0m     \u001b[0;32mfor\u001b[0m \u001b[0mi\u001b[0m \u001b[0;32min\u001b[0m \u001b[0mtrange\u001b[0m\u001b[0;34m(\u001b[0m\u001b[0;36m0\u001b[0m\u001b[0;34m,\u001b[0m \u001b[0mint\u001b[0m\u001b[0;34m(\u001b[0m\u001b[0mRATE\u001b[0m \u001b[0;34m/\u001b[0m \u001b[0mCHUNK\u001b[0m \u001b[0;34m*\u001b[0m \u001b[0mRECORD_SECONDS\u001b[0m\u001b[0;34m)\u001b[0m\u001b[0;34m)\u001b[0m\u001b[0;34m:\u001b[0m\u001b[0;34m\u001b[0m\u001b[0;34m\u001b[0m\u001b[0m\n\u001b[0;32m---> 20\u001b[0;31m         \u001b[0mdata\u001b[0m \u001b[0;34m=\u001b[0m \u001b[0mstream\u001b[0m\u001b[0;34m.\u001b[0m\u001b[0mread\u001b[0m\u001b[0;34m(\u001b[0m\u001b[0mCHUNK\u001b[0m\u001b[0;34m)\u001b[0m\u001b[0;34m\u001b[0m\u001b[0;34m\u001b[0m\u001b[0m\n\u001b[0m\u001b[1;32m     21\u001b[0m         \u001b[0mframes\u001b[0m\u001b[0;34m.\u001b[0m\u001b[0mappend\u001b[0m\u001b[0;34m(\u001b[0m\u001b[0mdata\u001b[0m\u001b[0;34m)\u001b[0m\u001b[0;34m\u001b[0m\u001b[0;34m\u001b[0m\u001b[0m\n\u001b[1;32m     22\u001b[0m \u001b[0;34m\u001b[0m\u001b[0m\n",
      "\u001b[0;32m/home/jmcmicha/.local/lib/python3.7/site-packages/pyaudio.py\u001b[0m in \u001b[0;36mread\u001b[0;34m(self, num_frames, exception_on_overflow)\u001b[0m\n\u001b[1;32m    610\u001b[0m                           paCanNotReadFromAnOutputOnlyStream)\n\u001b[1;32m    611\u001b[0m \u001b[0;34m\u001b[0m\u001b[0m\n\u001b[0;32m--> 612\u001b[0;31m         \u001b[0;32mreturn\u001b[0m \u001b[0mpa\u001b[0m\u001b[0;34m.\u001b[0m\u001b[0mread_stream\u001b[0m\u001b[0;34m(\u001b[0m\u001b[0mself\u001b[0m\u001b[0;34m.\u001b[0m\u001b[0m_stream\u001b[0m\u001b[0;34m,\u001b[0m \u001b[0mnum_frames\u001b[0m\u001b[0;34m,\u001b[0m \u001b[0mexception_on_overflow\u001b[0m\u001b[0;34m)\u001b[0m\u001b[0;34m\u001b[0m\u001b[0;34m\u001b[0m\u001b[0m\n\u001b[0m\u001b[1;32m    613\u001b[0m \u001b[0;34m\u001b[0m\u001b[0m\n\u001b[1;32m    614\u001b[0m     \u001b[0;32mdef\u001b[0m \u001b[0mget_read_available\u001b[0m\u001b[0;34m(\u001b[0m\u001b[0mself\u001b[0m\u001b[0;34m)\u001b[0m\u001b[0;34m:\u001b[0m\u001b[0;34m\u001b[0m\u001b[0;34m\u001b[0m\u001b[0m\n",
      "\u001b[0;31mKeyboardInterrupt\u001b[0m: "
     ]
    }
   ],
   "source": [
    "while 1:\n",
    "    record()\n",
    "    predict()"
   ]
  },
  {
   "cell_type": "code",
   "execution_count": null,
   "id": "0704b28b",
   "metadata": {},
   "outputs": [],
   "source": []
  }
 ],
 "metadata": {
  "kernelspec": {
   "display_name": "Python 3",
   "language": "python",
   "name": "python3"
  },
  "language_info": {
   "codemirror_mode": {
    "name": "ipython",
    "version": 3
   },
   "file_extension": ".py",
   "mimetype": "text/x-python",
   "name": "python",
   "nbconvert_exporter": "python",
   "pygments_lexer": "ipython3",
   "version": "3.7.3"
  }
 },
 "nbformat": 4,
 "nbformat_minor": 5
}
