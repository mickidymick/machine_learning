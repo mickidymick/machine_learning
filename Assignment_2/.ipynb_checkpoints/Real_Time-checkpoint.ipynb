{
 "cells": [
  {
   "cell_type": "code",
   "execution_count": 2,
   "id": "b17e8510",
   "metadata": {},
   "outputs": [
    {
     "name": "stdout",
     "output_type": "stream",
     "text": [
      "start recording\n",
      "Time Left: 7 seconds\n",
      "Time Left: 6 seconds\n",
      "Time Left: 5 seconds\n",
      "Time Left: 4 seconds\n",
      "Time Left: 3 seconds\n",
      "Time Left: 2 seconds\n",
      "Time Left: 1 seconds\n",
      "Time Left: 0 seconds\n"
     ]
    },
    {
     "data": {
      "text/plain": [
       "<Figure size 1500x500 with 1 Axes>"
      ]
     },
     "metadata": {},
     "output_type": "display_data"
    }
   ],
   "source": [
    "# python -m pip install pyaudio\n",
    "import pyaudio\n",
    "import wave\n",
    "import matplotlib.pyplot as plt\n",
    "import numpy as np\n",
    "\n",
    "FRAMES_PER_BUFFER = 3200\n",
    "FORMAT = pyaudio.paInt16\n",
    "CHANNELS = 1\n",
    "RATE = 16000\n",
    "\n",
    "pa = pyaudio.PyAudio()\n",
    "\n",
    "stream = pa.open(\n",
    "    format=FORMAT,\n",
    "    channels=CHANNELS,\n",
    "    rate=RATE,\n",
    "    input=True,\n",
    "    frames_per_buffer=FRAMES_PER_BUFFER\n",
    ")\n",
    "\n",
    "print('start recording')\n",
    "\n",
    "seconds = 8\n",
    "frames = []\n",
    "second_tracking = 0\n",
    "second_count = 0\n",
    "for i in range(0, int(RATE/FRAMES_PER_BUFFER*seconds)):\n",
    "    data = stream.read(FRAMES_PER_BUFFER)\n",
    "    frames.append(data)\n",
    "    second_tracking += 1\n",
    "    if second_tracking == RATE/FRAMES_PER_BUFFER:\n",
    "        second_count += 1\n",
    "        second_tracking = 0\n",
    "        print(f'Time Left: {seconds - second_count} seconds')\n",
    "\n",
    "\n",
    "stream.stop_stream()\n",
    "stream.close()\n",
    "pa.terminate()\n",
    "\n",
    "obj = wave.open('lemaster_tech.wav', 'wb')\n",
    "obj.setnchannels(CHANNELS)\n",
    "obj.setsampwidth(pa.get_sample_size(FORMAT))\n",
    "obj.setframerate(RATE)\n",
    "obj.writeframes(b''.join(frames))\n",
    "obj.close()\n",
    "\n",
    "\n",
    "file = wave.open('lemaster_tech.wav', 'rb')\n",
    "\n",
    "sample_freq = file.getframerate()\n",
    "frames = file.getnframes()\n",
    "signal_wave = file.readframes(-1)\n",
    "\n",
    "file.close()\n",
    "\n",
    "time = frames / sample_freq\n",
    "\n",
    "\n",
    "# if one channel use int16, if 2 use int32\n",
    "audio_array = np.frombuffer(signal_wave, dtype=np.int16)\n",
    "\n",
    "times = np.linspace(0, time, num=frames)\n",
    "\n",
    "plt.figure(figsize=(15, 5))\n",
    "plt.plot(times, audio_array)\n",
    "plt.ylabel('Signal Wave')\n",
    "plt.xlabel('Time (s)')\n",
    "plt.xlim(0, time)\n",
    "plt.title('The Thing I Just Recorded!!')\n",
    "plt.show()"
   ]
  },
  {
   "cell_type": "code",
   "execution_count": null,
   "id": "954b3b32",
   "metadata": {},
   "outputs": [],
   "source": []
  }
 ],
 "metadata": {
  "kernelspec": {
   "display_name": "Python 3",
   "language": "python",
   "name": "python3"
  },
  "language_info": {
   "codemirror_mode": {
    "name": "ipython",
    "version": 3
   },
   "file_extension": ".py",
   "mimetype": "text/x-python",
   "name": "python",
   "nbconvert_exporter": "python",
   "pygments_lexer": "ipython3",
   "version": "3.7.3"
  }
 },
 "nbformat": 4,
 "nbformat_minor": 5
}
